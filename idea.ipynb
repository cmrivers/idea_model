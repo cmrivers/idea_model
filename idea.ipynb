{
 "metadata": {
  "name": "",
  "signature": "sha256:0f149c47e5584a4c88fbb6cf116ca32fcf630465f99adccf6eccc972f1b4de41"
 },
 "nbformat": 3,
 "nbformat_minor": 0,
 "worksheets": [
  {
   "cells": [
    {
     "cell_type": "code",
     "collapsed": false,
     "input": [
      "from __future__ import division\n",
      "import pandas as pd\n",
      "import numpy as np"
     ],
     "language": "python",
     "metadata": {},
     "outputs": [],
     "prompt_number": 63
    },
    {
     "cell_type": "code",
     "collapsed": false,
     "input": [
      "data = [[0, 1], [12, 6], [24, 9], [36, 57], [48, 99], [60, 142], [72, 146]]\n",
      "data = pd.DataFrame(data, columns=['day', 'data'])"
     ],
     "language": "python",
     "metadata": {},
     "outputs": [],
     "prompt_number": 64
    },
    {
     "cell_type": "code",
     "collapsed": false,
     "input": [
      "k = 150\n",
      "tm = 3\n",
      "r = 1.5\n",
      "a = 1"
     ],
     "language": "python",
     "metadata": {},
     "outputs": [],
     "prompt_number": 65
    },
    {
     "cell_type": "code",
     "collapsed": false,
     "input": [
      "def equation(x):\n",
      "    \"\"\"\n",
      "    \"\"\"\n",
      "    eq = k/((1+np.exp(-r*a*(x-tm)))**1/a)\n",
      "    \n",
      "    return eq"
     ],
     "language": "python",
     "metadata": {},
     "outputs": [],
     "prompt_number": 66
    },
    {
     "cell_type": "code",
     "collapsed": false,
     "input": [
      "def gentime(inc, infect):\n",
      "    \"\"\"\n",
      "    inc: incubation period in days\n",
      "    infect: infectious period in days\n",
      "    returns generation time\n",
      "    \"\"\"\n",
      "    return inc+(infect/2)"
     ],
     "language": "python",
     "metadata": {},
     "outputs": [],
     "prompt_number": 67
    },
    {
     "cell_type": "code",
     "collapsed": false,
     "input": [
      "def ti(gtime):\n",
      "    \"\"\"\n",
      "    gtime: generation time in days\n",
      "    \"\"\"\n",
      "    return (tm-np.log(a)/r)*gtime"
     ],
     "language": "python",
     "metadata": {},
     "outputs": [],
     "prompt_number": 68
    },
    {
     "cell_type": "code",
     "collapsed": false,
     "input": [
      "gtime = gentime(5, 14) \n",
      "t1 = ti(gtime)\n",
      "print \"Generation time: {}\\tt1: {}\".format(gtime, t1)"
     ],
     "language": "python",
     "metadata": {},
     "outputs": [
      {
       "output_type": "stream",
       "stream": "stdout",
       "text": [
        "Generation time: 12.0\tt1: 36.0\n"
       ]
      }
     ],
     "prompt_number": 69
    },
    {
     "cell_type": "code",
     "collapsed": false,
     "input": [
      "data['model'] = data.index.map(equation)\n",
      "data['diff_sq'] = (data.model - data.data)**2"
     ],
     "language": "python",
     "metadata": {},
     "outputs": [],
     "prompt_number": 70
    },
    {
     "cell_type": "code",
     "collapsed": false,
     "input": [
      "data"
     ],
     "language": "python",
     "metadata": {},
     "outputs": [
      {
       "html": [
        "<div style=\"max-height:1000px;max-width:1500px;overflow:auto;\">\n",
        "<table border=\"1\" class=\"dataframe\">\n",
        "  <thead>\n",
        "    <tr style=\"text-align: right;\">\n",
        "      <th></th>\n",
        "      <th>day</th>\n",
        "      <th>data</th>\n",
        "      <th>model</th>\n",
        "      <th>diff_sq</th>\n",
        "    </tr>\n",
        "  </thead>\n",
        "  <tbody>\n",
        "    <tr>\n",
        "      <th>0</th>\n",
        "      <td>  0</td>\n",
        "      <td>   1</td>\n",
        "      <td>   1.648041</td>\n",
        "      <td>   0.419958</td>\n",
        "    </tr>\n",
        "    <tr>\n",
        "      <th>1</th>\n",
        "      <td> 12</td>\n",
        "      <td>   6</td>\n",
        "      <td>   7.113881</td>\n",
        "      <td>   1.240731</td>\n",
        "    </tr>\n",
        "    <tr>\n",
        "      <th>2</th>\n",
        "      <td> 24</td>\n",
        "      <td>   9</td>\n",
        "      <td>  27.363829</td>\n",
        "      <td> 337.230200</td>\n",
        "    </tr>\n",
        "    <tr>\n",
        "      <th>3</th>\n",
        "      <td> 36</td>\n",
        "      <td>  57</td>\n",
        "      <td>  75.000000</td>\n",
        "      <td> 324.000000</td>\n",
        "    </tr>\n",
        "    <tr>\n",
        "      <th>4</th>\n",
        "      <td> 48</td>\n",
        "      <td>  99</td>\n",
        "      <td> 122.636171</td>\n",
        "      <td> 558.668600</td>\n",
        "    </tr>\n",
        "    <tr>\n",
        "      <th>5</th>\n",
        "      <td> 60</td>\n",
        "      <td> 142</td>\n",
        "      <td> 142.886119</td>\n",
        "      <td>   0.785207</td>\n",
        "    </tr>\n",
        "    <tr>\n",
        "      <th>6</th>\n",
        "      <td> 72</td>\n",
        "      <td> 146</td>\n",
        "      <td> 148.351959</td>\n",
        "      <td>   5.531709</td>\n",
        "    </tr>\n",
        "  </tbody>\n",
        "</table>\n",
        "</div>"
       ],
       "metadata": {},
       "output_type": "pyout",
       "prompt_number": 71,
       "text": [
        "   day  data       model     diff_sq\n",
        "0    0     1    1.648041    0.419958\n",
        "1   12     6    7.113881    1.240731\n",
        "2   24     9   27.363829  337.230200\n",
        "3   36    57   75.000000  324.000000\n",
        "4   48    99  122.636171  558.668600\n",
        "5   60   142  142.886119    0.785207\n",
        "6   72   146  148.351959    5.531709"
       ]
      }
     ],
     "prompt_number": 71
    },
    {
     "cell_type": "code",
     "collapsed": false,
     "input": [
      "data.diff_sq.sum()"
     ],
     "language": "python",
     "metadata": {},
     "outputs": [
      {
       "metadata": {},
       "output_type": "pyout",
       "prompt_number": 72,
       "text": [
        "1227.8764042909888"
       ]
      }
     ],
     "prompt_number": 72
    },
    {
     "cell_type": "code",
     "collapsed": false,
     "input": [
      "data[['model', 'data']].plot()"
     ],
     "language": "python",
     "metadata": {},
     "outputs": [
      {
       "metadata": {},
       "output_type": "pyout",
       "prompt_number": 73,
       "text": [
        "<matplotlib.axes.AxesSubplot at 0x7f88b62a5310>"
       ]
      },
      {
       "metadata": {},
       "output_type": "display_data",
       "png": "[encoded data removed]",
       "text": [
        "<matplotlib.figure.Figure at 0x7f88b62aeb10>"
       ]
      }
     ],
     "prompt_number": 73
    },
    {
     "cell_type": "code",
     "collapsed": false,
     "input": [],
     "language": "python",
     "metadata": {},
     "outputs": []
    }
   ],
   "metadata": {}
  }
 ]
}